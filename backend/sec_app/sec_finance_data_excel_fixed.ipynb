{
 "cells": [
  {
   "cell_type": "code",
   "execution_count": 1,
   "id": "fc68600b-4f50-46c5-9a81-ca2301212a02",
   "metadata": {
    "scrolled": true
   },
   "outputs": [],
   "source": [
    "API_KEY = 'eb2b20c374f0fd2166fb9429253388b77a9de394c70511ff3a18d46c0d850b3a'\n",
    "#instantiate query api\n",
    "from sec_api import QueryApi\n",
    "queryApi = QueryApi(api_key=API_KEY) "
   ]
  },
  {
   "cell_type": "code",
   "execution_count": 2,
   "id": "a9827273",
   "metadata": {},
   "outputs": [
    {
     "name": "stdout",
     "output_type": "stream",
     "text": [
      "D:\\coding\\Nanik\\SEC\\backend\\virt\\scripts\\python.exe\n"
     ]
    },
    {
     "ename": "NameError",
     "evalue": "name 'os' is not defined",
     "output_type": "error",
     "traceback": [
      "\u001b[31m---------------------------------------------------------------------------\u001b[39m",
      "\u001b[31mNameError\u001b[39m                                 Traceback (most recent call last)",
      "\u001b[36mCell\u001b[39m\u001b[36m \u001b[39m\u001b[32mIn[2]\u001b[39m\u001b[32m, line 3\u001b[39m\n\u001b[32m      1\u001b[39m \u001b[38;5;28;01mimport\u001b[39;00m\u001b[38;5;250m \u001b[39m\u001b[34;01msys\u001b[39;00m\n\u001b[32m      2\u001b[39m \u001b[38;5;28mprint\u001b[39m(sys.executable)\n\u001b[32m----> \u001b[39m\u001b[32m3\u001b[39m \u001b[38;5;28mprint\u001b[39m(\u001b[43mos\u001b[49m.getcwd()) \n",
      "\u001b[31mNameError\u001b[39m: name 'os' is not defined"
     ]
    }
   ],
   "source": [
    "import sys,os\n",
    "print(sys.executable)\n",
    "print(os.getcwd()) "
   ]
  },
  {
   "cell_type": "code",
   "execution_count": null,
   "id": "67b614dc-afcd-47c9-b436-2ca3ac62bdf1",
   "metadata": {},
   "outputs": [],
   "source": [
    "import pandas as pd"
   ]
  },
  {
   "cell_type": "code",
   "execution_count": null,
   "id": "ebd933bb-6817-4eb3-b989-9cee75c5d145",
   "metadata": {},
   "outputs": [],
   "source": [
    "def get_filings(query):\n",
    "  from_param = 0\n",
    "  size_param = 200\n",
    "  all_filings = []\n",
    "\n",
    "  while True:\n",
    "    query['from'] = from_param\n",
    "    query['size'] = size_param\n",
    "\n",
    "    response = queryApi.get_filings(query)\n",
    "    filings = response['filings']\n",
    "\n",
    "    if len(filings) == 0:\n",
    "      break\n",
    "\n",
    "    all_filings.extend(filings)\n",
    "\n",
    "    from_param += size_param\n",
    "\n",
    "  return pd.json_normalize(all_filings)"
   ]
  },
  {
   "cell_type": "code",
   "execution_count": null,
   "id": "fd9c2fd0-6373-4351-9cca-ef7eb28dae7d",
   "metadata": {},
   "outputs": [],
   "source": [
    "form_type_query  = 'formType:(\"10-K\") AND NOT formType:(\"10-K/A\", \"10-Q/A\", NT)'\n",
    "ticker_query     = 'ticker:(META)' \n",
    "date_range_query = 'filedAt:[2010-01-01 TO 2025-03-15]'\n",
    "\n",
    "lucene_query = f\"{form_type_query} AND {ticker_query} AND {date_range_query}\"\n",
    "\n",
    "search_query = {\n",
    "  \"query\": lucene_query,\n",
    "  \"from\": \"0\",\n",
    "  \"size\": \"500\",\n",
    "  \"sort\": [{ \"filedAt\": { \"order\": \"desc\" } }]\n",
    "}\n",
    "\n",
    "filings = get_filings(search_query)\n",
    "len(filings)\n"
   ]
  },
  {
   "cell_type": "code",
   "execution_count": null,
   "id": "0a996896-2518-4c7f-9599-0887dc5e77dd",
   "metadata": {},
   "outputs": [],
   "source": [
    "lucene_query"
   ]
  },
  {
   "cell_type": "code",
   "execution_count": null,
   "id": "fb580c1d-a30c-45dd-a186-94026aae426f",
   "metadata": {},
   "outputs": [],
   "source": [
    "search_query"
   ]
  },
  {
   "cell_type": "code",
   "execution_count": null,
   "id": "9fd799b4-7293-40b7-8e25-617530c4ad62",
   "metadata": {},
   "outputs": [],
   "source": [
    "filings.head(20)"
   ]
  },
  {
   "cell_type": "code",
   "execution_count": null,
   "id": "d989b542-8253-4008-9e05-b5a386b5146b",
   "metadata": {},
   "outputs": [],
   "source": [
    "urls = filings[['ticker',\n",
    "                'formType',\n",
    "                'periodOfReport',\n",
    "                'filedAt',\n",
    "                'linkToFilingDetails']].rename(columns={'linkToFilingDetails': 'filingUrl'})\n",
    "\n",
    "urls['financialReportsUrl'] = urls['filingUrl'].apply(lambda url: '/'.join(url.split('/')[:-1]) + '/Financial_Report.xlsx')\n",
    "\n",
    "urls.head(10)"
   ]
  },
  {
   "cell_type": "code",
   "execution_count": null,
   "id": "4c6001fc-db9c-492d-8f7d-ce7465f0f259",
   "metadata": {},
   "outputs": [],
   "source": [
    "#Download Financial_reports.xlsx of All EDGAR Filings\n",
    "import os, requests\n",
    "\n",
    "folder_path = './reports'\n",
    "API_KEY = 'eb2b20c374f0fd2166fb9429253388b77a9de394c70511ff3a18d46c0d850b3a'\n",
    "if not os.path.exists(folder_path):\n",
    "  os.makedirs(folder_path)\n",
    "\n",
    "\n",
    "def download_report(filing,api_key):\n",
    "    try:\n",
    "      reports_path = filing['financialReportsUrl'].replace('https://www.sec.gov/Archives/edgar/data/', '')\n",
    "      base_url = f'https://archive.sec-api.io/{reports_path}'\n",
    "      render_api_url = f'{base_url}?token={api_key}'\n",
    "\n",
    "      response = requests.get(render_api_url)\n",
    "      response.raise_for_status()\n",
    "      print(f\"Requesting: {render_api_url}\")\n",
    "      print(f\"Response Code: {response.status_code}, Response Text: {response.text}\")\n",
    "\n",
    "\n",
    "      file_name = f\"{filing['ticker']}-{filing['periodOfReport']}-{filing['formType']}.xlsx\"\n",
    "      file_path = f\"{folder_path}/{file_name}\"\n",
    "\n",
    "      with open(file_path, 'wb') as output:\n",
    "              output.write(response.content)\n",
    "    except Exception as e:\n",
    "          print(f\"Error downloading report for {filing['ticker']}: {e}\")\n",
    "          "
   ]
  },
  {
   "cell_type": "code",
   "execution_count": null,
   "id": "9367a867-7ff0-4eb8-bc75-1ecad9378a8f",
   "metadata": {},
   "outputs": [],
   "source": [
    "#!pip install -q pandarallel\n",
    "\n",
    "from pandarallel import pandarallel\n",
    "number_of_workers = 4\n",
    "pandarallel.initialize(progress_bar=False, nb_workers=number_of_workers, verbose=0)"
   ]
  },
  {
   "cell_type": "code",
   "execution_count": null,
   "id": "9725b01b-473f-4e35-a886-58c26c244ce5",
   "metadata": {},
   "outputs": [],
   "source": [
    "\n",
    "urls.apply(lambda filing: download_report(filing, API_KEY), axis=1)\n",
    "print(f\"Downloaded {len(urls)} reports\")"
   ]
  },
  {
   "cell_type": "code",
   "execution_count": null,
   "id": "9c25d829",
   "metadata": {},
   "outputs": [],
   "source": [
    "with open(\"sec_finance_data_excel.ipynb\", \"r\", encoding=\"utf-8\", errors=\"replace\") as f:\n",
    "    content = f.read()\n",
    "\n",
    "with open(\"sec_finance_data_excel_fixed.ipynb\", \"w\", encoding=\"utf-8\") as f:\n",
    "    f.write(content)\n",
    "\n",
    "print(\"Fixed notebook saved as sec_finance_data_excel_fixed.ipynb\")\n"
   ]
  }
 ],
 "metadata": {
  "kernelspec": {
   "display_name": "Python (virt)",
   "language": "python",
   "name": "virt"
  },
  "language_info": {
   "codemirror_mode": {
    "name": "ipython",
    "version": 3
   },
   "file_extension": ".py",
   "mimetype": "text/x-python",
   "name": "python",
   "nbconvert_exporter": "python",
   "pygments_lexer": "ipython3",
   "version": "3.11.9"
  }
 },
 "nbformat": 4,
 "nbformat_minor": 5
}
