{
 "cells": [
  {
   "cell_type": "code",
   "execution_count": 19,
   "metadata": {},
   "outputs": [
    {
     "name": "stdout",
     "output_type": "stream",
     "text": [
      "Requirement already satisfied: pandas in c:\\users\\dafa_1\\venv\\lib\\site-packages (2.2.3)\n",
      "Requirement already satisfied: numpy>=1.23.2 in c:\\users\\dafa_1\\venv\\lib\\site-packages (from pandas) (2.2.3)\n",
      "Requirement already satisfied: python-dateutil>=2.8.2 in c:\\users\\dafa_1\\venv\\lib\\site-packages (from pandas) (2.9.0.post0)\n",
      "Requirement already satisfied: pytz>=2020.1 in c:\\users\\dafa_1\\venv\\lib\\site-packages (from pandas) (2025.1)\n",
      "Requirement already satisfied: tzdata>=2022.7 in c:\\users\\dafa_1\\venv\\lib\\site-packages (from pandas) (2025.1)\n",
      "Requirement already satisfied: six>=1.5 in c:\\users\\dafa_1\\venv\\lib\\site-packages (from python-dateutil>=2.8.2->pandas) (1.17.0)\n"
     ]
    }
   ],
   "source": [
    "import pandas as pd\n",
    "import os\n",
    "import sys\n",
    "\n",
    "!{sys.executable} -m pip install pandas\n"
   ]
  },
  {
   "cell_type": "code",
   "execution_count": 20,
   "metadata": {},
   "outputs": [
    {
     "name": "stdout",
     "output_type": "stream",
     "text": [
      "Error loading mapping file: [Errno 2] No such file or directory: '/data/Finance_Data_Model.xlsx'\n"
     ]
    }
   ],
   "source": [
    "def load_column_mapping(mapping_file='Finance_Data_Model.xlsx'):\n",
    "    try:\n",
    "        mapping_df = pd.read_excel(mapping_file)\n",
    "        mapping = dict(zip(mapping_df['Original Name'].str.strip().str.lower().str.replace(' ', '_'),\n",
    "                           mapping_df['Standard Name'].str.strip().str.lower().str.replace(' ', '_')))\n",
    "        print(f\"Loaded {len(mapping)} column mappings\")\n",
    "        return mapping\n",
    "    except Exception as e:\n",
    "        print(f\"Error loading mapping file: {e}\")\n",
    "        return {}\n",
    "\n",
    "column_mapping = load_column_mapping('/data/Finance_Data_Model.xlsx')"
   ]
  },
  {
   "cell_type": "code",
   "execution_count": 21,
   "metadata": {},
   "outputs": [],
   "source": [
    "def clean_single_ticker_file(file_path):\n",
    "    try:\n",
    "        filename = os.path.basename(file_path)\n",
    "        parts = filename.split('_')\n",
    "        ticker = parts[0]\n",
    "        date = parts[1]\n",
    "\n",
    "        df = pd.read_excel(file_path)\n",
    "        df.dropna(how='all', inplace=True)\n",
    "        df.dropna(axis=1, how='all', inplace=True)\n",
    "\n",
    "        df.columns = df.columns.str.strip().str.lower().str.replace(' ', '_')\n",
    "\n",
    "        df.rename(columns=column_mapping, inplace=True)\n",
    "        for col in df.columns:\n",
    "            df[col] = pd.to_numeric(df[col], errors='ignore')\n",
    "\n",
    "        df['ticker'] = ticker\n",
    "        df['report_date'] = pd.to_datetime(date)\n",
    "\n",
    "        return df\n",
    "\n",
    "    except Exception as e:\n",
    "        print(f\"Error cleaning {file_path}: {e}\")\n",
    "        return None\n"
   ]
  },
  {
   "cell_type": "code",
   "execution_count": 22,
   "metadata": {},
   "outputs": [],
   "source": [
    "def clean_all_ticker_data(folder_path='./files'):\n",
    "    all_data = []\n",
    "    failed = []\n",
    "\n",
    "    files = [f for f in os.listdir(folder_path) if f.endswith('.xlsx') and not f.startswith('~$')]\n",
    "\n",
    "    print(f\"\\nFound {len(files)} Excel files\")\n",
    "\n",
    "    for file in files:\n",
    "        path = os.path.join(folder_path, file)\n",
    "        cleaned_df = clean_single_ticker_file(path)\n",
    "\n",
    "        if cleaned_df is not None:\n",
    "            all_data.append(cleaned_df)\n",
    "            print(f\"Cleaned {file}\")\n",
    "        else:\n",
    "            failed.append(file)\n",
    "\n",
    "    if not all_data:\n",
    "        print(\"\\nNo files cleaned successfully.\")\n",
    "        return pd.DataFrame()\n",
    "\n",
    "    combined_df = pd.concat(all_data, ignore_index=True)\n",
    "    combined_df.drop_duplicates(inplace=True)\n",
    "    combined_df.sort_values(['ticker', 'report_date'], inplace=True)\n",
    "\n",
    "    print(f\"\\nCombined {len(all_data)} cleaned files\")\n",
    "    print(f\"Total rows: {len(combined_df)}\")\n",
    "    print(f\"Unique tickers: {combined_df['ticker'].nunique()}\")\n",
    "\n",
    "    output_csv = 'cleaned_all_ticker_data.csv'\n",
    "    combined_df.to_csv(output_csv, index=False)\n",
    "    print(f\"\\nCleaned dataset saved to: {output_csv}\")\n",
    "\n",
    "    return combined_df"
   ]
  },
  {
   "cell_type": "code",
   "execution_count": 23,
   "metadata": {},
   "outputs": [
    {
     "name": "stdout",
     "output_type": "stream",
     "text": [
      "\n",
      "Found 28 Excel files\n",
      "Cleaned AACT_2024-02-28_Financial_Report.xlsx\n",
      "Cleaned AACT_2025-03-12_Financial_Report.xlsx\n",
      "Cleaned AADI_2020-03-16_Financial_Report.xlsx\n"
     ]
    },
    {
     "name": "stderr",
     "output_type": "stream",
     "text": [
      "C:\\Users\\Dafa_1\\AppData\\Local\\Temp\\ipykernel_6180\\630164270.py:16: FutureWarning: errors='ignore' is deprecated and will raise in a future version. Use to_numeric without passing `errors` and catch exceptions explicitly instead\n",
      "  df[col] = pd.to_numeric(df[col], errors='ignore')\n",
      "C:\\Users\\Dafa_1\\AppData\\Local\\Temp\\ipykernel_6180\\630164270.py:16: FutureWarning: errors='ignore' is deprecated and will raise in a future version. Use to_numeric without passing `errors` and catch exceptions explicitly instead\n",
      "  df[col] = pd.to_numeric(df[col], errors='ignore')\n",
      "C:\\Users\\Dafa_1\\AppData\\Local\\Temp\\ipykernel_6180\\630164270.py:16: FutureWarning: errors='ignore' is deprecated and will raise in a future version. Use to_numeric without passing `errors` and catch exceptions explicitly instead\n",
      "  df[col] = pd.to_numeric(df[col], errors='ignore')\n",
      "C:\\Users\\Dafa_1\\AppData\\Local\\Temp\\ipykernel_6180\\630164270.py:16: FutureWarning: errors='ignore' is deprecated and will raise in a future version. Use to_numeric without passing `errors` and catch exceptions explicitly instead\n",
      "  df[col] = pd.to_numeric(df[col], errors='ignore')\n"
     ]
    },
    {
     "name": "stdout",
     "output_type": "stream",
     "text": [
      "Cleaned AADI_2021-03-11_Financial_Report.xlsx\n",
      "Cleaned AADI_2022-03-17_Financial_Report.xlsx\n",
      "Cleaned AADI_2023-03-28_Financial_Report.xlsx\n"
     ]
    },
    {
     "name": "stderr",
     "output_type": "stream",
     "text": [
      "C:\\Users\\Dafa_1\\AppData\\Local\\Temp\\ipykernel_6180\\630164270.py:16: FutureWarning: errors='ignore' is deprecated and will raise in a future version. Use to_numeric without passing `errors` and catch exceptions explicitly instead\n",
      "  df[col] = pd.to_numeric(df[col], errors='ignore')\n",
      "C:\\Users\\Dafa_1\\AppData\\Local\\Temp\\ipykernel_6180\\630164270.py:16: FutureWarning: errors='ignore' is deprecated and will raise in a future version. Use to_numeric without passing `errors` and catch exceptions explicitly instead\n",
      "  df[col] = pd.to_numeric(df[col], errors='ignore')\n",
      "C:\\Users\\Dafa_1\\AppData\\Local\\Temp\\ipykernel_6180\\630164270.py:16: FutureWarning: errors='ignore' is deprecated and will raise in a future version. Use to_numeric without passing `errors` and catch exceptions explicitly instead\n",
      "  df[col] = pd.to_numeric(df[col], errors='ignore')\n"
     ]
    },
    {
     "name": "stdout",
     "output_type": "stream",
     "text": [
      "Cleaned AADI_2024-03-13_Financial_Report.xlsx\n",
      "Cleaned AAL_2021-02-17_Financial_Report.xlsx\n"
     ]
    },
    {
     "name": "stderr",
     "output_type": "stream",
     "text": [
      "C:\\Users\\Dafa_1\\AppData\\Local\\Temp\\ipykernel_6180\\630164270.py:16: FutureWarning: errors='ignore' is deprecated and will raise in a future version. Use to_numeric without passing `errors` and catch exceptions explicitly instead\n",
      "  df[col] = pd.to_numeric(df[col], errors='ignore')\n",
      "C:\\Users\\Dafa_1\\AppData\\Local\\Temp\\ipykernel_6180\\630164270.py:16: FutureWarning: errors='ignore' is deprecated and will raise in a future version. Use to_numeric without passing `errors` and catch exceptions explicitly instead\n",
      "  df[col] = pd.to_numeric(df[col], errors='ignore')\n"
     ]
    },
    {
     "name": "stdout",
     "output_type": "stream",
     "text": [
      "Cleaned AAL_2022-02-22_Financial_Report.xlsx\n"
     ]
    },
    {
     "name": "stderr",
     "output_type": "stream",
     "text": [
      "C:\\Users\\Dafa_1\\AppData\\Local\\Temp\\ipykernel_6180\\630164270.py:16: FutureWarning: errors='ignore' is deprecated and will raise in a future version. Use to_numeric without passing `errors` and catch exceptions explicitly instead\n",
      "  df[col] = pd.to_numeric(df[col], errors='ignore')\n",
      "C:\\Users\\Dafa_1\\AppData\\Local\\Temp\\ipykernel_6180\\630164270.py:16: FutureWarning: errors='ignore' is deprecated and will raise in a future version. Use to_numeric without passing `errors` and catch exceptions explicitly instead\n",
      "  df[col] = pd.to_numeric(df[col], errors='ignore')\n"
     ]
    },
    {
     "name": "stdout",
     "output_type": "stream",
     "text": [
      "Cleaned AAL_2023-02-22_Financial_Report.xlsx\n",
      "Cleaned AAL_2024-02-21_Financial_Report.xlsx\n"
     ]
    },
    {
     "name": "stderr",
     "output_type": "stream",
     "text": [
      "C:\\Users\\Dafa_1\\AppData\\Local\\Temp\\ipykernel_6180\\630164270.py:16: FutureWarning: errors='ignore' is deprecated and will raise in a future version. Use to_numeric without passing `errors` and catch exceptions explicitly instead\n",
      "  df[col] = pd.to_numeric(df[col], errors='ignore')\n",
      "C:\\Users\\Dafa_1\\AppData\\Local\\Temp\\ipykernel_6180\\630164270.py:16: FutureWarning: errors='ignore' is deprecated and will raise in a future version. Use to_numeric without passing `errors` and catch exceptions explicitly instead\n",
      "  df[col] = pd.to_numeric(df[col], errors='ignore')\n"
     ]
    },
    {
     "name": "stdout",
     "output_type": "stream",
     "text": [
      "Cleaned AAL_2025-02-19_Financial_Report.xlsx\n",
      "Cleaned AAME_2020-03-24_Financial_Report.xlsx\n"
     ]
    },
    {
     "name": "stderr",
     "output_type": "stream",
     "text": [
      "C:\\Users\\Dafa_1\\AppData\\Local\\Temp\\ipykernel_6180\\630164270.py:16: FutureWarning: errors='ignore' is deprecated and will raise in a future version. Use to_numeric without passing `errors` and catch exceptions explicitly instead\n",
      "  df[col] = pd.to_numeric(df[col], errors='ignore')\n",
      "C:\\Users\\Dafa_1\\AppData\\Local\\Temp\\ipykernel_6180\\630164270.py:16: FutureWarning: errors='ignore' is deprecated and will raise in a future version. Use to_numeric without passing `errors` and catch exceptions explicitly instead\n",
      "  df[col] = pd.to_numeric(df[col], errors='ignore')\n",
      "C:\\Users\\Dafa_1\\AppData\\Local\\Temp\\ipykernel_6180\\630164270.py:16: FutureWarning: errors='ignore' is deprecated and will raise in a future version. Use to_numeric without passing `errors` and catch exceptions explicitly instead\n",
      "  df[col] = pd.to_numeric(df[col], errors='ignore')\n"
     ]
    },
    {
     "name": "stdout",
     "output_type": "stream",
     "text": [
      "Cleaned AAME_2021-03-23_Financial_Report.xlsx\n",
      "Cleaned AAME_2022-03-25_Financial_Report.xlsx\n",
      "Cleaned AAME_2023-06-30_Financial_Report.xlsx\n"
     ]
    },
    {
     "name": "stderr",
     "output_type": "stream",
     "text": [
      "C:\\Users\\Dafa_1\\AppData\\Local\\Temp\\ipykernel_6180\\630164270.py:16: FutureWarning: errors='ignore' is deprecated and will raise in a future version. Use to_numeric without passing `errors` and catch exceptions explicitly instead\n",
      "  df[col] = pd.to_numeric(df[col], errors='ignore')\n",
      "C:\\Users\\Dafa_1\\AppData\\Local\\Temp\\ipykernel_6180\\630164270.py:16: FutureWarning: errors='ignore' is deprecated and will raise in a future version. Use to_numeric without passing `errors` and catch exceptions explicitly instead\n",
      "  df[col] = pd.to_numeric(df[col], errors='ignore')\n",
      "C:\\Users\\Dafa_1\\AppData\\Local\\Temp\\ipykernel_6180\\630164270.py:16: FutureWarning: errors='ignore' is deprecated and will raise in a future version. Use to_numeric without passing `errors` and catch exceptions explicitly instead\n",
      "  df[col] = pd.to_numeric(df[col], errors='ignore')\n"
     ]
    },
    {
     "name": "stdout",
     "output_type": "stream",
     "text": [
      "Cleaned AAME_2024-04-01_Financial_Report.xlsx\n",
      "Cleaned AAM_2025-03-11_Financial_Report.xlsx\n",
      "Cleaned AA_2021-02-25_Financial_Report.xlsx\n"
     ]
    },
    {
     "name": "stderr",
     "output_type": "stream",
     "text": [
      "C:\\Users\\Dafa_1\\AppData\\Local\\Temp\\ipykernel_6180\\630164270.py:16: FutureWarning: errors='ignore' is deprecated and will raise in a future version. Use to_numeric without passing `errors` and catch exceptions explicitly instead\n",
      "  df[col] = pd.to_numeric(df[col], errors='ignore')\n",
      "C:\\Users\\Dafa_1\\AppData\\Local\\Temp\\ipykernel_6180\\630164270.py:16: FutureWarning: errors='ignore' is deprecated and will raise in a future version. Use to_numeric without passing `errors` and catch exceptions explicitly instead\n",
      "  df[col] = pd.to_numeric(df[col], errors='ignore')\n"
     ]
    },
    {
     "name": "stdout",
     "output_type": "stream",
     "text": [
      "Cleaned AA_2022-02-24_Financial_Report.xlsx\n",
      "Cleaned AA_2023-02-23_Financial_Report.xlsx\n"
     ]
    },
    {
     "name": "stderr",
     "output_type": "stream",
     "text": [
      "C:\\Users\\Dafa_1\\AppData\\Local\\Temp\\ipykernel_6180\\630164270.py:16: FutureWarning: errors='ignore' is deprecated and will raise in a future version. Use to_numeric without passing `errors` and catch exceptions explicitly instead\n",
      "  df[col] = pd.to_numeric(df[col], errors='ignore')\n",
      "C:\\Users\\Dafa_1\\AppData\\Local\\Temp\\ipykernel_6180\\630164270.py:16: FutureWarning: errors='ignore' is deprecated and will raise in a future version. Use to_numeric without passing `errors` and catch exceptions explicitly instead\n",
      "  df[col] = pd.to_numeric(df[col], errors='ignore')\n"
     ]
    },
    {
     "name": "stdout",
     "output_type": "stream",
     "text": [
      "Cleaned AA_2024-02-21_Financial_Report.xlsx\n",
      "Cleaned AA_2025-02-20_Financial_Report.xlsx\n"
     ]
    },
    {
     "name": "stderr",
     "output_type": "stream",
     "text": [
      "C:\\Users\\Dafa_1\\AppData\\Local\\Temp\\ipykernel_6180\\630164270.py:16: FutureWarning: errors='ignore' is deprecated and will raise in a future version. Use to_numeric without passing `errors` and catch exceptions explicitly instead\n",
      "  df[col] = pd.to_numeric(df[col], errors='ignore')\n",
      "C:\\Users\\Dafa_1\\AppData\\Local\\Temp\\ipykernel_6180\\630164270.py:16: FutureWarning: errors='ignore' is deprecated and will raise in a future version. Use to_numeric without passing `errors` and catch exceptions explicitly instead\n",
      "  df[col] = pd.to_numeric(df[col], errors='ignore')\n",
      "C:\\Users\\Dafa_1\\AppData\\Local\\Temp\\ipykernel_6180\\630164270.py:16: FutureWarning: errors='ignore' is deprecated and will raise in a future version. Use to_numeric without passing `errors` and catch exceptions explicitly instead\n",
      "  df[col] = pd.to_numeric(df[col], errors='ignore')\n"
     ]
    },
    {
     "name": "stdout",
     "output_type": "stream",
     "text": [
      "Cleaned A_2020-12-17_Financial_Report.xlsx\n",
      "Cleaned A_2021-12-17_Financial_Report.xlsx\n",
      "Cleaned A_2022-12-20_Financial_Report.xlsx\n"
     ]
    },
    {
     "name": "stderr",
     "output_type": "stream",
     "text": [
      "C:\\Users\\Dafa_1\\AppData\\Local\\Temp\\ipykernel_6180\\630164270.py:16: FutureWarning: errors='ignore' is deprecated and will raise in a future version. Use to_numeric without passing `errors` and catch exceptions explicitly instead\n",
      "  df[col] = pd.to_numeric(df[col], errors='ignore')\n"
     ]
    },
    {
     "name": "stdout",
     "output_type": "stream",
     "text": [
      "Cleaned A_2023-12-19_Financial_Report.xlsx\n"
     ]
    },
    {
     "name": "stderr",
     "output_type": "stream",
     "text": [
      "C:\\Users\\Dafa_1\\AppData\\Local\\Temp\\ipykernel_6180\\630164270.py:16: FutureWarning: errors='ignore' is deprecated and will raise in a future version. Use to_numeric without passing `errors` and catch exceptions explicitly instead\n",
      "  df[col] = pd.to_numeric(df[col], errors='ignore')\n"
     ]
    },
    {
     "name": "stdout",
     "output_type": "stream",
     "text": [
      "Cleaned A_2024-12-19_Financial_Report.xlsx\n",
      "\n",
      "Combined 28 cleaned files\n",
      "Total rows: 1105\n",
      "Unique tickers: 7\n",
      "\n",
      "Cleaned dataset saved to: cleaned_all_ticker_data.csv\n"
     ]
    }
   ],
   "source": [
    "df = clean_all_ticker_data('./files')\n",
    "df.head()\n",
    "output_csv = 'cleaned_all_ticker_data_v2.csv'\n",
    "df.to_csv(output_csv, index=False)\n"
   ]
  }
 ],
 "metadata": {
  "language_info": {
   "name": "python"
  }
 },
 "nbformat": 4,
 "nbformat_minor": 2
}
