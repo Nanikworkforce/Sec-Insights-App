{
 "cells": [
  {
   "cell_type": "code",
   "execution_count": 1,
   "id": "fc68600b-4f50-46c5-9a81-ca2301212a02",
   "metadata": {
    "scrolled": true
   },
   "outputs": [],
   "source": [
    "API_KEY = '6d4bd60e237eae6df24af2c0189a10278154d4f2079dec475b7d15ca11baea04'\n",
    "#instantiate query api\n",
    "from sec_api import QueryApi\n",
    "queryApi = QueryApi(api_key=API_KEY) "
   ]
  },
  {
   "cell_type": "code",
   "execution_count": 2,
   "id": "a9827273",
   "metadata": {},
   "outputs": [
    {
     "name": "stdout",
     "output_type": "stream",
     "text": [
      "D:\\coding\\Nanik\\SEC\\backend\\venv\\scripts\\python.exe\n"
     ]
    }
   ],
   "source": [
    "import sys\n",
    "# import os \n",
    "\n",
    "print(sys.executable)\n",
    "# print(os.getcwd()) "
   ]
  },
  {
   "cell_type": "code",
   "execution_count": 3,
   "id": "67b614dc-afcd-47c9-b436-2ca3ac62bdf1",
   "metadata": {},
   "outputs": [],
   "source": [
    "import pandas as pd\n",
    "from time import sleep \n",
    "import concurrent.futures\n",
    "file_path = \"D:/coding/Nanik/SEC/backend/sec_app/data/stocks_perf_data.xlsx\"\n",
    "df = pd.read_excel(file_path)\n",
    "\n",
    "tickers = df['Symbol'].dropna().unique().tolist()"
   ]
  },
  {
   "cell_type": "code",
   "execution_count": 4,
   "id": "ebd933bb-6817-4eb3-b989-9cee75c5d145",
   "metadata": {},
   "outputs": [],
   "source": [
    "def get_filings(query):\n",
    "  from_param = 0\n",
    "  size_param = 200\n",
    "  all_filings = []\n",
    "\n",
    "  while True:\n",
    "    query['from'] = from_param\n",
    "    query['size'] = size_param\n",
    "\n",
    "    response = queryApi.get_filings(query)\n",
    "    filings = response['filings']\n",
    "\n",
    "    if len(filings) == 0:\n",
    "      break\n",
    "\n",
    "    all_filings.extend(filings)\n",
    "\n",
    "    from_param += size_param\n",
    "\n",
    "  return pd.json_normalize(all_filings)"
   ]
  },
  {
   "cell_type": "code",
   "execution_count": null,
   "id": "fd9c2fd0-6373-4351-9cca-ef7eb28dae7d",
   "metadata": {},
   "outputs": [
    {
     "name": "stdout",
     "output_type": "stream",
     "text": [
      "Fetched data for AACB\n",
      "Fetched data for AACG\n",
      "Fetched data for AAL\n",
      "Fetched data for AAME\n",
      "Fetched data for AAM\n",
      "Fetched data for A\n",
      "Fetched data for AAMI\n",
      "Fetched data for AACT\n",
      "Fetched data for AADI\n",
      "Fetched data for AA\n",
      "Fetched data for AAON\n",
      "Fetched data for AAPG\n",
      "Fetched data for AAOI\n",
      "Fetched data for AARD\n",
      "Fetched data for AAP\n",
      "Fetched data for ABEV\n",
      "Fetched data for AB\n",
      "Fetched data for AAT\n",
      "Fetched data for AAPL\n",
      "Fetched data for ABAT\n",
      "Fetched data for ABBV\n",
      "Fetched data for ABLV\n",
      "Fetched data for ABCB\n",
      "Fetched data for ABEO\n",
      "Fetched data for ABCL\n",
      "Fetched data for ABG\n",
      "Fetched data for ABM\n",
      "Fetched data for ABTS\n",
      "Fetched data for ABL\n",
      "Fetched data for ABOS\n",
      "Fetched data for ABNB\n",
      "Fetched data for ABP\n",
      "Fetched data for ABR\n",
      "Fetched data for ABT\n",
      "Fetched data for ABSI\n",
      "Fetched data for ABVE\n",
      "Fetched data for ABVX\n",
      "Fetched data for ABVC\n",
      "Fetched data for ACB\n",
      "Fetched data for AC\n",
      "Fetched data for ABUS\n",
      "Fetched data for ACA\n",
      "Fetched data for ACAD\n",
      "Fetched data for ACCO\n",
      "Fetched data for ACDC\n",
      "Fetched data for ACHL\n",
      "Fetched data for ACCD\n",
      "Fetched data for ACCS\n"
     ]
    }
   ],
   "source": [
    "def fetch_filings_for_ticker(ticker):\n",
    "  form_type_query  = 'formType:(\"10-K\") AND NOT formType:(\"10-K/A\", \"10-Q/A\", NT)'\n",
    "  ticker_query     = f'ticker:({ticker})'\n",
    "  date_range_query = 'filedAt:[2020-01-01 TO 2025-03-15]'\n",
    "  lucene_query = f\"{form_type_query} AND {ticker_query} AND {date_range_query}\"\n",
    "\n",
    "  search_query = {\n",
    "    \"query\": lucene_query,\n",
    "    \"from\": \"0\",\n",
    "    \"size\": \"200\",\n",
    "    \"sort\": [{ \"filedAt\": { \"order\": \"desc\" } }]\n",
    "  }\n",
    "\n",
    "  try:\n",
    "    filings = get_filings(search_query)  # Assuming `get_filings()` is already defined\n",
    "    return filings\n",
    "  except Exception as e:\n",
    "    print(f\"Error fetching {ticker}: {e}\")\n",
    "    return None\n",
    "\n",
    "    # Iterate over all tickers\n",
    "all_filings = {}\n",
    "number_of_workers = 15\n",
    "\n",
    "with concurrent.futures.ThreadPoolExecutor(max_workers=number_of_workers) as executor:\n",
    "    future_to_ticker = {executor.submit(fetch_filings_for_ticker, ticker): ticker for ticker in tickers}\n",
    "    for future in concurrent.futures.as_completed(future_to_ticker):\n",
    "        ticker = future_to_ticker[future]\n",
    "        try:\n",
    "            all_filings[ticker] = future.result()\n",
    "            print(f\"Fetched data for {ticker}\")\n",
    "        except Exception as e:\n",
    "            print(f\"Error occurred for {ticker}: {e}\")\n",
    "\n",
    "print(f\"Fetched data for {len(all_filings)} tickers\")\n"
   ]
  },
  {
   "cell_type": "code",
   "execution_count": null,
   "id": "0a996896-2518-4c7f-9599-0887dc5e77dd",
   "metadata": {},
   "outputs": [],
   "source": [
    "lucene_query"
   ]
  },
  {
   "cell_type": "code",
   "execution_count": null,
   "id": "fb580c1d-a30c-45dd-a186-94026aae426f",
   "metadata": {},
   "outputs": [],
   "source": [
    "search_query"
   ]
  },
  {
   "cell_type": "code",
   "execution_count": null,
   "id": "9fd799b4-7293-40b7-8e25-617530c4ad62",
   "metadata": {},
   "outputs": [],
   "source": [
    "filings.head(20)"
   ]
  },
  {
   "cell_type": "code",
   "execution_count": null,
   "id": "d989b542-8253-4008-9e05-b5a386b5146b",
   "metadata": {},
   "outputs": [],
   "source": [
    "urls = filings[['ticker',\n",
    "                'formType',\n",
    "                'periodOfReport',\n",
    "                'filedAt',\n",
    "                'linkToFilingDetails']].rename(columns={'linkToFilingDetails': 'filingUrl'})\n",
    "\n",
    "urls['financialReportsUrl'] = urls['filingUrl'].apply(lambda url: '/'.join(url.split('/')[:-1]) + '/Financial_Report.xlsx')\n",
    "\n",
    "urls.head(10)"
   ]
  },
  {
   "cell_type": "code",
   "execution_count": null,
   "id": "4c6001fc-db9c-492d-8f7d-ce7465f0f259",
   "metadata": {},
   "outputs": [],
   "source": [
    "#Download Financial_reports.xlsx of All EDGAR Filings\n",
    "import os, requests\n",
    "\n",
    "folder_path = './reports'\n",
    "API_KEY = '6d4bd60e237eae6df24af2c0189a10278154d4f2079dec475b7d15ca11baea04'\n",
    "if not os.path.exists(folder_path):\n",
    "  os.makedirs(folder_path)\n",
    "\n",
    "\n",
    "def download_report(filing,api_key):\n",
    "    try:\n",
    "      reports_path = filing['financialReportsUrl'].replace('https://www.sec.gov/Archives/edgar/data/', '')\n",
    "      base_url = f'https://archive.sec-api.io/{reports_path}'\n",
    "      render_api_url = f'{base_url}?token={api_key}'\n",
    "\n",
    "      response = requests.get(render_api_url)\n",
    "      response.raise_for_status()\n",
    "      print(f\"Requesting: {render_api_url}\")\n",
    "      print(f\"Response Code: {response.status_code}, Response Text: {response.text}\")\n",
    "\n",
    "\n",
    "      file_name = f\"{filing['ticker']}-{filing['periodOfReport']}-{filing['formType']}.xlsx\"\n",
    "      file_path = f\"{folder_path}/{file_name}\"\n",
    "\n",
    "      with open(file_path, 'wb') as output:\n",
    "              output.write(response.content)\n",
    "    except Exception as e:\n",
    "          print(f\"Error downloading report for {filing['ticker']}: {e}\")\n",
    "          "
   ]
  },
  {
   "cell_type": "code",
   "execution_count": null,
   "id": "9367a867-7ff0-4eb8-bc75-1ecad9378a8f",
   "metadata": {},
   "outputs": [],
   "source": [
    "#!pip install -q pandarallel\n",
    "\n",
    "# from pandarallel import pandarallel\n",
    "# number_of_workers = 4\n",
    "# pandarallel.initialize(progress_bar=False, nb_workers=number_of_workers, verbose=0)"
   ]
  },
  {
   "cell_type": "code",
   "execution_count": null,
   "id": "9725b01b-473f-4e35-a886-58c26c244ce5",
   "metadata": {},
   "outputs": [],
   "source": [
    "import concurrent.futures\n",
    "import time\n",
    "\n",
    "def download_with_rate_limit(filing, api_key):\n",
    "    \"\"\"Download a report with rate limiting to avoid API limits\"\"\"\n",
    "    try:\n",
    "        download_report(filing, api_key)\n",
    "    except requests.exceptions.RequestException as e:\n",
    "        print(f\"Request Error for {filing['ticker']}: {e}\")\n",
    "        time.sleep(2)  # Wait before retrying\n",
    "        download_report(filing, api_key)\n",
    "\n",
    "number_of_workers = 15\n",
    "\n",
    "with concurrent.futures.ThreadPoolExecutor(max_workers=number_of_workers) as executor:\n",
    "    futures = [executor.submit(download_with_rate_limit, filing, API_KEY) for _, filing in urls.iterrows()]\n",
    "    for future in concurrent.futures.as_completed(futures):\n",
    "        try:\n",
    "            future.result()\n",
    "        except Exception as e:\n",
    "            print(f\"Error occurred: {e}\")\n",
    "\n",
    "print(f\"Downloaded {len(urls)} reports\")"
   ]
  },
  {
   "cell_type": "code",
   "execution_count": null,
   "id": "9c25d829",
   "metadata": {},
   "outputs": [],
   "source": [
    "with open(\"backend/sec_app/sec_finance_data_excel.ipynb\", \"r\", encoding=\"utf-8\", errors=\"replace\") as f:\n",
    "    content = f.read()\n",
    "\n",
    "with open(\"backend/sec_app/sec_finance_data_excel_fixed.ipynb\", \"w\", encoding=\"utf-8\") as f:\n",
    "    f.write(content)\n",
    "\n",
    "print(\"Fixed notebook saved as sec_finance_data_excel_fixed.ipynb\")\n"
   ]
  }
 ],
 "metadata": {
  "kernelspec": {
   "display_name": "Python 3 (ipykernel)",
   "language": "python",
   "name": "python3"
  },
  "language_info": {
   "codemirror_mode": {
    "name": "ipython",
    "version": 3
   },
   "file_extension": ".py",
   "mimetype": "text/x-python",
   "name": "python",
   "nbconvert_exporter": "python",
   "pygments_lexer": "ipython3",
   "version": "3.11.9"
  }
 },
 "nbformat": 4,
 "nbformat_minor": 5
}
